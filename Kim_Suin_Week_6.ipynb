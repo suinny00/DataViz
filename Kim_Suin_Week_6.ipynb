{
 "cells": [
  {
   "cell_type": "code",
   "execution_count": 1,
   "id": "8bab6946",
   "metadata": {},
   "outputs": [],
   "source": [
    "import numpy as np\n",
    "import bqplot.pyplot as plt"
   ]
  },
  {
   "cell_type": "code",
   "execution_count": 9,
   "id": "8bd35d47",
   "metadata": {},
   "outputs": [],
   "source": [
    "# create some data\n",
    "x = np.arange(10)\n",
    "y1 = np.random.rand(50)\n",
    "y2 = np.random.rand(50)"
   ]
  },
  {
   "cell_type": "code",
   "execution_count": 11,
   "id": "20acf075",
   "metadata": {},
   "outputs": [
    {
     "data": {
      "text/plain": [
       "Scatter(colors=['steelblue'], interactions={'hover': 'tooltip'}, scales={'x': LinearScale(), 'y': LinearScale()}, scales_metadata={'x': {'orientation': 'horizontal', 'dimension': 'x'}, 'y': {'orientation': 'vertical', 'dimension': 'y'}, 'color': {'dimension': 'color'}, 'size': {'dimension': 'size'}, 'opacity': {'dimension': 'opacity'}, 'rotation': {'dimension': 'rotation'}, 'skew': {'dimension': 'skew'}}, tooltip_style={'opacity': 0.9}, x=array([0, 1, 2, 3, 4, 5, 6, 7, 8, 9]), y=array([0.60529609, 0.72599056, 0.7029324 , 0.42121065, 0.37605544,\n",
       "       0.19572534, 0.13032746, 0.96446826, 0.5113585 , 0.68513536]))"
      ]
     },
     "execution_count": 11,
     "metadata": {},
     "output_type": "execute_result"
    }
   ],
   "source": [
    "# create a scatter plot\n",
    "fig = plt.figure(title='Interactive Scatter Plot Example')\n",
    "scatter = plt.scatter(x, y)\n",
    "scatter"
   ]
  },
  {
   "cell_type": "code",
   "execution_count": 12,
   "id": "edf72a79",
   "metadata": {},
   "outputs": [],
   "source": [
    "# add some labels\n",
    "plt.xlabel('X-axis label')\n",
    "plt.ylabel('Y-axis label')"
   ]
  },
  {
   "cell_type": "code",
   "execution_count": 13,
   "id": "8f44e49e",
   "metadata": {},
   "outputs": [
    {
     "ename": "NameError",
     "evalue": "name 'bqplot' is not defined",
     "output_type": "error",
     "traceback": [
      "\u001b[0;31m---------------------------------------------------------------------------\u001b[0m",
      "\u001b[0;31mNameError\u001b[0m                                 Traceback (most recent call last)",
      "\u001b[0;32m/var/folders/xc/_5b2z4hn1bx4dzkjqdc0vns00000gp/T/ipykernel_47011/4099610328.py\u001b[0m in \u001b[0;36m<module>\u001b[0;34m\u001b[0m\n\u001b[1;32m      1\u001b[0m \u001b[0;31m# create an interactive tooltip that displays the x and y values of the selected point\u001b[0m\u001b[0;34m\u001b[0m\u001b[0;34m\u001b[0m\u001b[0m\n\u001b[0;32m----> 2\u001b[0;31m \u001b[0mtooltip\u001b[0m \u001b[0;34m=\u001b[0m \u001b[0mbqplot\u001b[0m\u001b[0;34m.\u001b[0m\u001b[0mTooltip\u001b[0m\u001b[0;34m(\u001b[0m\u001b[0mfields\u001b[0m\u001b[0;34m=\u001b[0m\u001b[0;34m[\u001b[0m\u001b[0;34m'x'\u001b[0m\u001b[0;34m,\u001b[0m \u001b[0;34m'y'\u001b[0m\u001b[0;34m]\u001b[0m\u001b[0;34m,\u001b[0m \u001b[0mformats\u001b[0m\u001b[0;34m=\u001b[0m\u001b[0;34m[\u001b[0m\u001b[0;34m'.2f'\u001b[0m\u001b[0;34m,\u001b[0m \u001b[0;34m'.2f'\u001b[0m\u001b[0;34m]\u001b[0m\u001b[0;34m)\u001b[0m\u001b[0;34m\u001b[0m\u001b[0;34m\u001b[0m\u001b[0m\n\u001b[0m\u001b[1;32m      3\u001b[0m \u001b[0mscatter\u001b[0m\u001b[0;34m.\u001b[0m\u001b[0mtooltip\u001b[0m \u001b[0;34m=\u001b[0m \u001b[0mtooltip\u001b[0m\u001b[0;34m\u001b[0m\u001b[0;34m\u001b[0m\u001b[0m\n",
      "\u001b[0;31mNameError\u001b[0m: name 'bqplot' is not defined"
     ]
    }
   ],
   "source": [
    "# create an interactive tooltip that displays the x and y values of the selected point\n",
    "tooltip = bqplot.Tooltip(fields=['x', 'y'], formats=['.2f', '.2f'])\n",
    "scatter.tooltip = tooltip"
   ]
  },
  {
   "cell_type": "code",
   "execution_count": 14,
   "id": "4ae4e4d5",
   "metadata": {},
   "outputs": [
    {
     "data": {
      "application/vnd.jupyter.widget-view+json": {
       "model_id": "acc00c368a134d1c981845aea9fb32c2",
       "version_major": 2,
       "version_minor": 0
      },
      "text/plain": [
       "VBox(children=(Figure(axes=[Axis(label='X-axis label', scale=LinearScale(), side='bottom'), Axis(label='Y-axis…"
      ]
     },
     "metadata": {},
     "output_type": "display_data"
    }
   ],
   "source": [
    "# show the plot\n",
    "plt.show()"
   ]
  },
  {
   "cell_type": "code",
   "execution_count": null,
   "id": "ec805ae4",
   "metadata": {},
   "outputs": [],
   "source": []
  }
 ],
 "metadata": {
  "kernelspec": {
   "display_name": "Python 3 (ipykernel)",
   "language": "python",
   "name": "python3"
  },
  "language_info": {
   "codemirror_mode": {
    "name": "ipython",
    "version": 3
   },
   "file_extension": ".py",
   "mimetype": "text/x-python",
   "name": "python",
   "nbconvert_exporter": "python",
   "pygments_lexer": "ipython3",
   "version": "3.9.13"
  }
 },
 "nbformat": 4,
 "nbformat_minor": 5
}
